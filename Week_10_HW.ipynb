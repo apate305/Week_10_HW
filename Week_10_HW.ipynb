{
 "cells": [
  {
   "cell_type": "markdown",
   "id": "2475ddc8",
   "metadata": {},
   "source": [
    "Please be sure your functions work for vectors with a size of three and matrices that are 3x3. Bonus points if you can further generalize them for larger vectors and matrices."
   ]
  },
  {
   "cell_type": "markdown",
   "id": "6457ce13",
   "metadata": {},
   "source": [
    "1.\tExplain the dot product and cross product in your own words in markdown. Use LaTeX to properly show the equations."
   ]
  },
  {
   "cell_type": "markdown",
   "id": "109f7e8b",
   "metadata": {},
   "source": [
    "# Dot Product"
   ]
  },
  {
   "cell_type": "markdown",
   "id": "0c22dbe7",
   "metadata": {},
   "source": [
    "The dot product tells me how much the vectors move together in the same direction. \n",
    "It is the product of the part or length of the vectors that are moving together in the same direction.\n",
    "\n",
    "\n",
    "How is dot product calculated? \n",
    "\n",
    "Dot product is the magnitude(length) of vector A times the magnitude(length) of vector B times the cosine of the angle between the 2 vectors. After doing some manipulation it's clear that the equation is the same as the length of vector B times the part of vector A that goes in the same direction as vector B (or vector B times the adjacent side).  \n",
    "\n",
    "With 2 dimensional vectors, the dot product is the same as matrix multiplication: mutiplying each value of a vector with the corresponding value in another vector and adding up the products. \n",
    "\n",
    "The result or dot product is known as a scaler value (a number, not a vector)."
   ]
  },
  {
   "cell_type": "markdown",
   "id": "b46bdc03",
   "metadata": {},
   "source": [
    "$$ \\vec{A} \\cdot \\vec{B} = \\lVert \\vec{A} \\lVert  \\lVert \\vec{B} \\lVert  \\cos(\\theta) $$"
   ]
  },
  {
   "cell_type": "markdown",
   "id": "1f137e67",
   "metadata": {},
   "source": [
    "# Cross Product"
   ]
  },
  {
   "cell_type": "markdown",
   "id": "393ba5f7",
   "metadata": {},
   "source": [
    "The cross product tells me how perpendicular the vectors are. It is the product of the part of a vector that goes in the perpendicular direction to the other vector.\n",
    "\n",
    "How is cross product calculated?\n",
    "\n",
    "Cross product is the magnitude(length) of vector A times the magnitude(length) of vector B times the sine of the angle between the 2 vectors. After doing some manipulation it's clear that the equation is the same as the length of vector B times the part of vector A that's going perpendicular to B. \n",
    "(or Vector B times the opposite side)\n",
    "\n",
    "In each part of the cross product calculation, you are leaving out a pair of values from the 2 vectors or the 2 corresponding values from the vectors.\n",
    "\n",
    "When you calculate the cross product, you get a new vector that is perpendicular to both the vectors. The cross product can only be taken in R3 (3-dimensional)."
   ]
  },
  {
   "cell_type": "markdown",
   "id": "3d8cc30a",
   "metadata": {},
   "source": [
    "$$ \\vec{A} \\cdot \\vec{B} = \\lVert \\vec{A} \\lVert  \\lVert \\vec{B} \\lVert  \\sin(\\theta) $$"
   ]
  },
  {
   "cell_type": "markdown",
   "id": "6b2f2249",
   "metadata": {},
   "source": [
    "# Relationship Between Dot Product and Cross Product"
   ]
  },
  {
   "cell_type": "markdown",
   "id": "d4db59f5",
   "metadata": {},
   "source": [
    "Dot product and cross product are sort of opposite ideas. The dot product is multiplying the part of a vector that goes in the same direction as the other vector. And the cross product is multiplying the part of a vector that goes in the perpendicular direction to the other vector.\n",
    "\n",
    "MAXIMIZED CROSS PRODUCT: When the two vectors are perpendicular. It'll just be the length of A times the length of B because the sin of 90 degrees is 1.\n",
    "\n",
    "MINIMIZED DOT PRODUCT: When the two vectors are perpendicular, then there would be no part of vector A that goes in the same direction as vector B. So the dot product is 0 (cos(90) x length of A x length of B).\n",
    "\n",
    "\n",
    "\n",
    "MINIMIZED CROSS PRODUCT: When the two vectors have no angle, are essentially the same line going in the same direction, then there would be no part of vector A that is perpendicular to vector B. Cross product is 0 (length of A x length of B x sin(0))\n",
    "\n",
    "MAXIMIZED DOT PRODUCT: When the two vectors have no angle, are essentially the same line going in the same direction. It'll just be the length of A times length of B because the cos of 0 degrees is 1."
   ]
  },
  {
   "cell_type": "markdown",
   "id": "e190d48a",
   "metadata": {},
   "source": [
    "2.\tWrite a function angle_between(v1, v2) where v1 and v2 are two vectors that are passed in, and the angle between them is calculated. "
   ]
  },
  {
   "cell_type": "code",
   "execution_count": 41,
   "id": "dc42d385",
   "metadata": {},
   "outputs": [],
   "source": [
    "import numpy as np\n",
    "import math "
   ]
  },
  {
   "cell_type": "code",
   "execution_count": 46,
   "id": "46f9a572",
   "metadata": {},
   "outputs": [],
   "source": [
    "def angle_between(v1, v2):\n",
    "    \n",
    "    v1first = v1[0]\n",
    "    v1second = v1[1]\n",
    "    v2first = v2[0]\n",
    "    v2second = v2[1]\n",
    "    \n",
    "    #Dot Product: dp = np.dot(v1,v2)\n",
    "    dp = np.dot(v1,v2)\n",
    "    \n",
    "    #two hypotenuse\n",
    "    h1 = math.sqrt(v1first **2 + v1second **2)\n",
    "    h2 = math.sqrt(v2first **2 + v2second **2)\n",
    "    \n",
    "    #inverse cosine \n",
    "    angle = np.arccos(dp / (h1 * h2))\n",
    "    print(angle)\n",
    "    \n"
   ]
  },
  {
   "cell_type": "code",
   "execution_count": 47,
   "id": "bf4c8d7e",
   "metadata": {},
   "outputs": [
    {
     "name": "stdout",
     "output_type": "stream",
     "text": [
      "1.4901161193847656e-08\n"
     ]
    }
   ],
   "source": [
    "angle_between([3, 6], [4, 8])"
   ]
  },
  {
   "cell_type": "markdown",
   "id": "1f554997",
   "metadata": {},
   "source": [
    "3.\tWrite a function called row_dot(A, r1, r2) which takes an input matrix called A, one row number identified by r1, and another row number identified by r2 and returns the dot product of the r1 and r2 rows (indexing starts at 0)."
   ]
  },
  {
   "cell_type": "code",
   "execution_count": 84,
   "id": "dabeeaa8",
   "metadata": {},
   "outputs": [],
   "source": [
    "#takes in matrix of any size (# of rows) and 2 row numbers. The dot product of the 2 rows specified are then calculated. \n",
    "\n",
    "\n",
    "    \n",
    "# x = []\n",
    "# y = []\n",
    "#print(sum([i*j for (i, j) in z\n",
    "\n",
    "#row_dot([[3,2],[2,4]])\n",
    "\n",
    "\n",
    "def row_dot (A, r1, r2):\n",
    "    try: \n",
    "            DP = np.dot(A[r1-1], A[r2-1])\n",
    "            print(DP)\n",
    "    except Exception as e:\n",
    "        print(e)\n",
    "\n",
    "        \n",
    "#y = the product of the corresponding values in the vectors plus the previous product"
   ]
  },
  {
   "cell_type": "code",
   "execution_count": 85,
   "id": "88968023",
   "metadata": {},
   "outputs": [
    {
     "name": "stdout",
     "output_type": "stream",
     "text": [
      "28\n"
     ]
    }
   ],
   "source": [
    "A = [[1,2,3],\n",
    "     [2,4,6],\n",
    "     [3,6,9],\n",
    "     [4,8,12]]\n",
    "\n",
    "row_dot (A, 1, 2)"
   ]
  },
  {
   "cell_type": "code",
   "execution_count": 58,
   "id": "157345af",
   "metadata": {},
   "outputs": [],
   "source": [
    "def row_dot(A, r1, r2):\n",
    "    r1 = A[0]\n",
    "    r2 = A[1]\n",
    "    dot = (r1[0] * r1[1]) + (r2[0] * r2[1])\n",
    "    print(dot)\n"
   ]
  },
  {
   "cell_type": "code",
   "execution_count": 65,
   "id": "f1b125e8",
   "metadata": {},
   "outputs": [
    {
     "name": "stdout",
     "output_type": "stream",
     "text": [
      "14\n"
     ]
    }
   ],
   "source": [
    "row_dot([[3,2],[2,4]] , [1,2] , [2,4])"
   ]
  },
  {
   "cell_type": "code",
   "execution_count": 86,
   "id": "3b2cc222",
   "metadata": {},
   "outputs": [
    {
     "name": "stdout",
     "output_type": "stream",
     "text": [
      "56\n"
     ]
    }
   ],
   "source": [
    "row_dot (A, 2, 2)"
   ]
  },
  {
   "cell_type": "markdown",
   "id": "c0c26779",
   "metadata": {},
   "source": [
    "4.\tWrite a function matrix_division(m1, m2) that takes in two matrices, m1 and m2, and returns the result. What is the trick with matrix division?"
   ]
  },
  {
   "cell_type": "markdown",
   "id": "743b03b9",
   "metadata": {},
   "source": [
    "The closest equivalent is multiplying by the inverse of another matrix. In other words, while [A] ÷ [B] is undefined, you can solve the problem [A] * [B]-1. Since these two equations would be equivalent for scalar quantities, this \"feels\" like matrix division, but it's important to use the correct terminology."
   ]
  },
  {
   "cell_type": "code",
   "execution_count": 144,
   "id": "09b41d8f",
   "metadata": {},
   "outputs": [],
   "source": [
    "def matrix_division(m1, m2):\n",
    "    \n",
    "    #Confirm the \"divisor matrix\" is square. \n",
    "    if m1.shape[0] != m1.shape[1] or m2.shape[0] != m2.shape[1]:\n",
    "        print(\"no unique solution1\")\n",
    "    \n",
    "    #the number of columns in the first matrix must equal the number of rows in the second matrix \n",
    "    if m1.shape[0] == m2.shape[1]:\n",
    "        print (\"no solution\")\n",
    "    if np.linalg.det(m2) == 0:\n",
    "        print (\"no unique solution\")\n",
    "    else:\n",
    "        #Switch the positions of the elements on the main 2 x 2 diagonal.\n",
    "        t = m2.T\n",
    "        #print(t)\n",
    "        \n",
    "        #Multiply the top right and bottom left elements by -1:\n",
    "        t[0,-1] = t[0,-1] * -1 \n",
    "        t[-1,0] = t[-1,0] * -1\n",
    "        #print(t)\n",
    "        \n",
    "        #Take the reciprocal of the determinant.\n",
    "        DR = 1 / np.linalg.det(m2)\n",
    "        #print(DR)\n",
    "        \n",
    "        #Multiply the new matrix by the reciprocal of the determinant.  \n",
    "        inverse_m2 = DR * t\n",
    "        #print(inverse_m2)\n",
    "        \n",
    "        #multiply the two matrices (solution = m1 * inverse_m2)\n",
    "        solution = np.dot(m1,inverse_m2)\n",
    "        print(solution)"
   ]
  },
  {
   "cell_type": "code",
   "execution_count": 143,
   "id": "bc3b1077",
   "metadata": {},
   "outputs": [
    {
     "name": "stdout",
     "output_type": "stream",
     "text": [
      "[[ 19.5 -32.5]\n",
      " [ 20.  -30. ]]\n"
     ]
    }
   ],
   "source": [
    "A = np.array([[13, 26], \n",
    "              [20, 30]])\n",
    "\n",
    "B = np.array([[1, 2],\n",
    "               [3, 4]])\n",
    "\n",
    "matrix_division(A, B)"
   ]
  },
  {
   "cell_type": "code",
   "execution_count": 119,
   "id": "b4a441c2",
   "metadata": {},
   "outputs": [
    {
     "name": "stdout",
     "output_type": "stream",
     "text": [
      "-0.4999999999999999\n",
      "[[ 19.5 -32.5]\n",
      " [ 20.  -30. ]]\n"
     ]
    }
   ],
   "source": [
    "A = np.array([[13, 26], \n",
    "              [20, 30]])\n",
    "\n",
    "B = np.array([[1, 2],\n",
    "               [3, 4]])\n",
    "\n",
    "matrix_division(A, B)"
   ]
  },
  {
   "cell_type": "code",
   "execution_count": 121,
   "id": "06760860",
   "metadata": {},
   "outputs": [
    {
     "data": {
      "text/plain": [
       "array([[13.,  0.],\n",
       "       [ 5.,  5.]])"
      ]
     },
     "execution_count": 121,
     "metadata": {},
     "output_type": "execute_result"
    }
   ],
   "source": [
    "A = np.array([[13, 26], \n",
    "              [20, 30]])\n",
    "\n",
    "B = np.array([[-2, 1],\n",
    "               [3/2, 1/-2]])\n",
    "\n",
    "np.dot(A,B)"
   ]
  },
  {
   "cell_type": "code",
   "execution_count": 98,
   "id": "1e3ca29e",
   "metadata": {},
   "outputs": [
    {
     "data": {
      "text/plain": [
       "True"
      ]
     },
     "execution_count": 98,
     "metadata": {},
     "output_type": "execute_result"
    }
   ],
   "source": [
    "m.shape[0] == m2.shape[1]\n"
   ]
  },
  {
   "cell_type": "code",
   "execution_count": 101,
   "id": "c957b9a8",
   "metadata": {},
   "outputs": [
    {
     "data": {
      "text/plain": [
       "(3, 2)"
      ]
     },
     "execution_count": 101,
     "metadata": {},
     "output_type": "execute_result"
    }
   ],
   "source": [
    "m.shape[1] - 1"
   ]
  },
  {
   "cell_type": "markdown",
   "id": "68b5d1bf",
   "metadata": {},
   "source": [
    "5.\tWrite a function is_orthogonal(v1,v2, tol), where v1 and v2 are column vectors of the same size and tol is a scalar value strictly larger than 0. The output should be 1 if the angle between v1 and v2 is within tol of π/2; that is, |π/2−θ|<tol|π/2−θ|<tol, and 0 otherwise. You may assume that v1 and v2 are column vectors of the same size, and that tol is a positive scalar."
   ]
  },
  {
   "cell_type": "code",
   "execution_count": null,
   "id": "e39e9881",
   "metadata": {},
   "outputs": [],
   "source": [
    "def is_orthogonal(v1,v2,tol):\n",
    "\n",
    "1) v1, v2 same size\n",
    "2)tol is a positive scalar\n",
    "3)tol = scalar value > 0\n",
    "4)OUTPUT: 1 if angle <  tol(π/2)   |π/2−θ|<tol|π/2−θ|<tol else 0\n"
   ]
  },
  {
   "cell_type": "code",
   "execution_count": null,
   "id": "20a68543",
   "metadata": {},
   "outputs": [],
   "source": [
    "def is_orthogonal(v1,v2,tol):\n",
    "    try:\n",
    "        if len(v1)!=len(v2):\n",
    "            print(\"vector colums are not the same size\")\n",
    "        elif tol <= 0:\n",
    "            print(\"tol need to bea positive scalar\")\n",
    "        "
   ]
  },
  {
   "cell_type": "markdown",
   "id": "206c6bcc",
   "metadata": {},
   "source": [
    "6.\tCreate a class called vector_calculator. __init__ should take self, vector1, and vector2. It should have two methods inside of it that are from problems 1 and 4 above (angle_between and is_orthogonal). Make sure tol is defaulted but can be overwritten. Make sure you can call angle_between and is_orthogonal through the class and return the correct results as in problems 1 and 4. "
   ]
  },
  {
   "cell_type": "code",
   "execution_count": null,
   "id": "60db3ffb",
   "metadata": {},
   "outputs": [],
   "source": []
  },
  {
   "cell_type": "markdown",
   "id": "a20559cb",
   "metadata": {},
   "source": [
    "7.\tShow a graphical representation of the breast cancer data outlined in this reading https://www.datacamp.com/community/tutorials/principal-component-analysis-in-python Be sure to describe what PCA is and incorporate the principal components in your plot. This is just exploratory, so there are many correct answers!\n",
    "\n"
   ]
  },
  {
   "cell_type": "code",
   "execution_count": null,
   "id": "be806401",
   "metadata": {},
   "outputs": [],
   "source": []
  }
 ],
 "metadata": {
  "kernelspec": {
   "display_name": "Python 3 (ipykernel)",
   "language": "python",
   "name": "python3"
  },
  "language_info": {
   "codemirror_mode": {
    "name": "ipython",
    "version": 3
   },
   "file_extension": ".py",
   "mimetype": "text/x-python",
   "name": "python",
   "nbconvert_exporter": "python",
   "pygments_lexer": "ipython3",
   "version": "3.9.7"
  }
 },
 "nbformat": 4,
 "nbformat_minor": 5
}
